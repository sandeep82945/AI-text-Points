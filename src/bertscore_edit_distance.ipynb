{
 "cells": [
  {
   "cell_type": "code",
   "execution_count": 1,
   "id": "e77c678c-b78c-412f-b6b4-aa184fc8c225",
   "metadata": {},
   "outputs": [
    {
     "name": "stdout",
     "output_type": "stream",
     "text": [
      "Collecting python-Levenshtein\n",
      "  Downloading python_Levenshtein-0.25.1-py3-none-any.whl.metadata (3.7 kB)\n",
      "Collecting Levenshtein==0.25.1 (from python-Levenshtein)\n",
      "  Downloading Levenshtein-0.25.1-cp311-cp311-manylinux_2_17_x86_64.manylinux2014_x86_64.whl.metadata (3.3 kB)\n",
      "Collecting rapidfuzz<4.0.0,>=3.8.0 (from Levenshtein==0.25.1->python-Levenshtein)\n",
      "  Downloading rapidfuzz-3.9.7-cp311-cp311-manylinux_2_17_x86_64.manylinux2014_x86_64.whl.metadata (12 kB)\n",
      "Downloading python_Levenshtein-0.25.1-py3-none-any.whl (9.4 kB)\n",
      "Downloading Levenshtein-0.25.1-cp311-cp311-manylinux_2_17_x86_64.manylinux2014_x86_64.whl (177 kB)\n",
      "\u001b[2K   \u001b[38;2;114;156;31m━━━━━━━━━━━━━━━━━━━━━━━━━━━━━━━━━━━━━━━━\u001b[0m \u001b[32m177.2/177.2 kB\u001b[0m \u001b[31m1.4 MB/s\u001b[0m eta \u001b[36m0:00:00\u001b[0m[31m1.4 MB/s\u001b[0m eta \u001b[36m0:00:01\u001b[0m\n",
      "\u001b[?25hDownloading rapidfuzz-3.9.7-cp311-cp311-manylinux_2_17_x86_64.manylinux2014_x86_64.whl (3.4 MB)\n",
      "\u001b[2K   \u001b[38;2;114;156;31m━━━━━━━━━━━━━━━━━━━━━━━━━━━━━━━━━━━━━━━━\u001b[0m \u001b[32m3.4/3.4 MB\u001b[0m \u001b[31m2.0 MB/s\u001b[0m eta \u001b[36m0:00:00\u001b[0m[36m0:00:01\u001b[0mm eta \u001b[36m0:00:01\u001b[0m\n",
      "\u001b[?25hInstalling collected packages: rapidfuzz, Levenshtein, python-Levenshtein\n",
      "Successfully installed Levenshtein-0.25.1 python-Levenshtein-0.25.1 rapidfuzz-3.9.7\n"
     ]
    }
   ],
   "source": [
    "!pip install python-Levenshtein"
   ]
  },
  {
   "cell_type": "code",
   "execution_count": 2,
   "id": "aec101a5-d5c9-4d52-a479-e91ae1c79726",
   "metadata": {},
   "outputs": [],
   "source": [
    "from bert_score import score\n",
    "import pandas as pd\n",
    "import numpy as np\n",
    "import matplotlib.pyplot as plt\n",
    "import json\n",
    "import re\n",
    "import Levenshtein as lev \n",
    "import warnings\n",
    "warnings.filterwarnings(action='ignore')"
   ]
  },
  {
   "cell_type": "code",
   "execution_count": 3,
   "id": "c9e05f2d-5b5a-4dd7-929d-3c2bbb1827db",
   "metadata": {},
   "outputs": [],
   "source": [
    "df_human = pd.read_csv('human_sentences.csv')\n",
    "df_ai = pd.read_csv('ai_sentences.csv')"
   ]
  },
  {
   "cell_type": "code",
   "execution_count": 4,
   "id": "248a27b4-4292-469c-9327-b4028ff9ab6e",
   "metadata": {},
   "outputs": [
    {
     "data": {
      "text/html": [
       "<div>\n",
       "<style scoped>\n",
       "    .dataframe tbody tr th:only-of-type {\n",
       "        vertical-align: middle;\n",
       "    }\n",
       "\n",
       "    .dataframe tbody tr th {\n",
       "        vertical-align: top;\n",
       "    }\n",
       "\n",
       "    .dataframe thead th {\n",
       "        text-align: right;\n",
       "    }\n",
       "</style>\n",
       "<table border=\"1\" class=\"dataframe\">\n",
       "  <thead>\n",
       "    <tr style=\"text-align: right;\">\n",
       "      <th></th>\n",
       "      <th>True Sentences</th>\n",
       "      <th>Generated Sentences</th>\n",
       "    </tr>\n",
       "  </thead>\n",
       "  <tbody>\n",
       "    <tr>\n",
       "      <th>0</th>\n",
       "      <td>many methods including CondInst, SOLOv2, SOTR,...</td>\n",
       "      <td>the baseline models across various backbones.</td>\n",
       "    </tr>\n",
       "    <tr>\n",
       "      <th>1</th>\n",
       "      <td>query-based instance segmentation methods by e...</td>\n",
       "      <td>existing query-based instance segmentation met...</td>\n",
       "    </tr>\n",
       "    <tr>\n",
       "      <th>2</th>\n",
       "      <td>For example, the notion of $O^I_{n}$ in eq.5 a...</td>\n",
       "      <td>It would benefit from clearer explanations or ...</td>\n",
       "    </tr>\n",
       "    <tr>\n",
       "      <th>3</th>\n",
       "      <td>cost in Table 3 (b) and (c) to show the trade-...</td>\n",
       "      <td>usage for a more comprehensive evaluation.</td>\n",
       "    </tr>\n",
       "    <tr>\n",
       "      <th>4</th>\n",
       "      <td>paper, which has better speed-accuracy trade-o...</td>\n",
       "      <td>experiments, which could provide a more thorou...</td>\n",
       "    </tr>\n",
       "  </tbody>\n",
       "</table>\n",
       "</div>"
      ],
      "text/plain": [
       "                                      True Sentences  \\\n",
       "0  many methods including CondInst, SOLOv2, SOTR,...   \n",
       "1  query-based instance segmentation methods by e...   \n",
       "2  For example, the notion of $O^I_{n}$ in eq.5 a...   \n",
       "3  cost in Table 3 (b) and (c) to show the trade-...   \n",
       "4  paper, which has better speed-accuracy trade-o...   \n",
       "\n",
       "                                 Generated Sentences  \n",
       "0      the baseline models across various backbones.  \n",
       "1  existing query-based instance segmentation met...  \n",
       "2  It would benefit from clearer explanations or ...  \n",
       "3         usage for a more comprehensive evaluation.  \n",
       "4  experiments, which could provide a more thorou...  "
      ]
     },
     "execution_count": 4,
     "metadata": {},
     "output_type": "execute_result"
    }
   ],
   "source": [
    "df_human.head()"
   ]
  },
  {
   "cell_type": "code",
   "execution_count": 5,
   "id": "7fe239e5-6828-4654-8fe6-49540e1204aa",
   "metadata": {},
   "outputs": [
    {
     "data": {
      "text/html": [
       "<div>\n",
       "<style scoped>\n",
       "    .dataframe tbody tr th:only-of-type {\n",
       "        vertical-align: middle;\n",
       "    }\n",
       "\n",
       "    .dataframe tbody tr th {\n",
       "        vertical-align: top;\n",
       "    }\n",
       "\n",
       "    .dataframe thead th {\n",
       "        text-align: right;\n",
       "    }\n",
       "</style>\n",
       "<table border=\"1\" class=\"dataframe\">\n",
       "  <thead>\n",
       "    <tr style=\"text-align: right;\">\n",
       "      <th></th>\n",
       "      <th>True Sentences</th>\n",
       "      <th>Generated Sentences</th>\n",
       "    </tr>\n",
       "  </thead>\n",
       "  <tbody>\n",
       "    <tr>\n",
       "      <th>0</th>\n",
       "      <td>training framework, highlighting the importanc...</td>\n",
       "      <td>training framework for query-based instance se...</td>\n",
       "    </tr>\n",
       "    <tr>\n",
       "      <th>1</th>\n",
       "      <td>demonstrate significant performance improvemen...</td>\n",
       "      <td>demonstrate the effectiveness of the approach.</td>\n",
       "    </tr>\n",
       "    <tr>\n",
       "      <th>2</th>\n",
       "      <td>backbone networks and query-based models, with...</td>\n",
       "      <td>query-based instance segmentation models.</td>\n",
       "    </tr>\n",
       "    <tr>\n",
       "      <th>3</th>\n",
       "      <td>and memory capacity provides valuable insights...</td>\n",
       "      <td>and memory capacity is thorough and insightful.</td>\n",
       "    </tr>\n",
       "    <tr>\n",
       "      <th>4</th>\n",
       "      <td>or situations where the proposed framework mig...</td>\n",
       "      <td>and limitations of the proposed method.</td>\n",
       "    </tr>\n",
       "  </tbody>\n",
       "</table>\n",
       "</div>"
      ],
      "text/plain": [
       "                                      True Sentences  \\\n",
       "0  training framework, highlighting the importanc...   \n",
       "1  demonstrate significant performance improvemen...   \n",
       "2  backbone networks and query-based models, with...   \n",
       "3  and memory capacity provides valuable insights...   \n",
       "4  or situations where the proposed framework mig...   \n",
       "\n",
       "                                 Generated Sentences  \n",
       "0  training framework for query-based instance se...  \n",
       "1     demonstrate the effectiveness of the approach.  \n",
       "2          query-based instance segmentation models.  \n",
       "3    and memory capacity is thorough and insightful.  \n",
       "4            and limitations of the proposed method.  "
      ]
     },
     "execution_count": 5,
     "metadata": {},
     "output_type": "execute_result"
    }
   ],
   "source": [
    "df_ai.head()"
   ]
  },
  {
   "cell_type": "code",
   "execution_count": 6,
   "id": "eef9ab1c-9b6d-4502-a6da-ef076734f705",
   "metadata": {},
   "outputs": [],
   "source": [
    "def preprocess_text(text):\n",
    "    text = text.lower() \n",
    "    text = re.sub(r'\\s+', ' ', text) \n",
    "    text = text.strip() \n",
    "    return text"
   ]
  },
  {
   "cell_type": "code",
   "execution_count": 7,
   "id": "c1026330-106e-4a72-b29f-886d63d3f3a3",
   "metadata": {},
   "outputs": [],
   "source": [
    "df_human['True Sentences'] = df_human['True Sentences'].apply(preprocess_text)\n",
    "df_human['Generated Sentences'] = df_human['Generated Sentences'].apply(preprocess_text)\n",
    "df_ai['True Sentences'] = df_ai['True Sentences'].apply(preprocess_text)\n",
    "df_ai['Generated Sentences'] = df_ai['Generated Sentences'].apply(preprocess_text)"
   ]
  },
  {
   "cell_type": "code",
   "execution_count": 8,
   "id": "513021b8-f600-447d-9115-b25fb6faaaa5",
   "metadata": {},
   "outputs": [
    {
     "data": {
      "text/html": [
       "<div>\n",
       "<style scoped>\n",
       "    .dataframe tbody tr th:only-of-type {\n",
       "        vertical-align: middle;\n",
       "    }\n",
       "\n",
       "    .dataframe tbody tr th {\n",
       "        vertical-align: top;\n",
       "    }\n",
       "\n",
       "    .dataframe thead th {\n",
       "        text-align: right;\n",
       "    }\n",
       "</style>\n",
       "<table border=\"1\" class=\"dataframe\">\n",
       "  <thead>\n",
       "    <tr style=\"text-align: right;\">\n",
       "      <th></th>\n",
       "      <th>True Sentences</th>\n",
       "      <th>Generated Sentences</th>\n",
       "    </tr>\n",
       "  </thead>\n",
       "  <tbody>\n",
       "    <tr>\n",
       "      <th>0</th>\n",
       "      <td>many methods including condinst, solov2, sotr,...</td>\n",
       "      <td>the baseline models across various backbones.</td>\n",
       "    </tr>\n",
       "    <tr>\n",
       "      <th>1</th>\n",
       "      <td>query-based instance segmentation methods by e...</td>\n",
       "      <td>existing query-based instance segmentation met...</td>\n",
       "    </tr>\n",
       "    <tr>\n",
       "      <th>2</th>\n",
       "      <td>for example, the notion of $o^i_{n}$ in eq.5 a...</td>\n",
       "      <td>it would benefit from clearer explanations or ...</td>\n",
       "    </tr>\n",
       "    <tr>\n",
       "      <th>3</th>\n",
       "      <td>cost in table 3 (b) and (c) to show the trade-...</td>\n",
       "      <td>usage for a more comprehensive evaluation.</td>\n",
       "    </tr>\n",
       "    <tr>\n",
       "      <th>4</th>\n",
       "      <td>paper, which has better speed-accuracy trade-o...</td>\n",
       "      <td>experiments, which could provide a more thorou...</td>\n",
       "    </tr>\n",
       "  </tbody>\n",
       "</table>\n",
       "</div>"
      ],
      "text/plain": [
       "                                      True Sentences  \\\n",
       "0  many methods including condinst, solov2, sotr,...   \n",
       "1  query-based instance segmentation methods by e...   \n",
       "2  for example, the notion of $o^i_{n}$ in eq.5 a...   \n",
       "3  cost in table 3 (b) and (c) to show the trade-...   \n",
       "4  paper, which has better speed-accuracy trade-o...   \n",
       "\n",
       "                                 Generated Sentences  \n",
       "0      the baseline models across various backbones.  \n",
       "1  existing query-based instance segmentation met...  \n",
       "2  it would benefit from clearer explanations or ...  \n",
       "3         usage for a more comprehensive evaluation.  \n",
       "4  experiments, which could provide a more thorou...  "
      ]
     },
     "execution_count": 8,
     "metadata": {},
     "output_type": "execute_result"
    }
   ],
   "source": [
    "df_human.head()"
   ]
  },
  {
   "cell_type": "code",
   "execution_count": 9,
   "id": "abf4efe6-9af1-45f4-8842-3e2c979b7a3d",
   "metadata": {},
   "outputs": [
    {
     "data": {
      "text/html": [
       "<div>\n",
       "<style scoped>\n",
       "    .dataframe tbody tr th:only-of-type {\n",
       "        vertical-align: middle;\n",
       "    }\n",
       "\n",
       "    .dataframe tbody tr th {\n",
       "        vertical-align: top;\n",
       "    }\n",
       "\n",
       "    .dataframe thead th {\n",
       "        text-align: right;\n",
       "    }\n",
       "</style>\n",
       "<table border=\"1\" class=\"dataframe\">\n",
       "  <thead>\n",
       "    <tr style=\"text-align: right;\">\n",
       "      <th></th>\n",
       "      <th>True Sentences</th>\n",
       "      <th>Generated Sentences</th>\n",
       "    </tr>\n",
       "  </thead>\n",
       "  <tbody>\n",
       "    <tr>\n",
       "      <th>0</th>\n",
       "      <td>training framework, highlighting the importanc...</td>\n",
       "      <td>training framework for query-based instance se...</td>\n",
       "    </tr>\n",
       "    <tr>\n",
       "      <th>1</th>\n",
       "      <td>demonstrate significant performance improvemen...</td>\n",
       "      <td>demonstrate the effectiveness of the approach.</td>\n",
       "    </tr>\n",
       "    <tr>\n",
       "      <th>2</th>\n",
       "      <td>backbone networks and query-based models, with...</td>\n",
       "      <td>query-based instance segmentation models.</td>\n",
       "    </tr>\n",
       "    <tr>\n",
       "      <th>3</th>\n",
       "      <td>and memory capacity provides valuable insights...</td>\n",
       "      <td>and memory capacity is thorough and insightful.</td>\n",
       "    </tr>\n",
       "    <tr>\n",
       "      <th>4</th>\n",
       "      <td>or situations where the proposed framework mig...</td>\n",
       "      <td>and limitations of the proposed method.</td>\n",
       "    </tr>\n",
       "  </tbody>\n",
       "</table>\n",
       "</div>"
      ],
      "text/plain": [
       "                                      True Sentences  \\\n",
       "0  training framework, highlighting the importanc...   \n",
       "1  demonstrate significant performance improvemen...   \n",
       "2  backbone networks and query-based models, with...   \n",
       "3  and memory capacity provides valuable insights...   \n",
       "4  or situations where the proposed framework mig...   \n",
       "\n",
       "                                 Generated Sentences  \n",
       "0  training framework for query-based instance se...  \n",
       "1     demonstrate the effectiveness of the approach.  \n",
       "2          query-based instance segmentation models.  \n",
       "3    and memory capacity is thorough and insightful.  \n",
       "4            and limitations of the proposed method.  "
      ]
     },
     "execution_count": 9,
     "metadata": {},
     "output_type": "execute_result"
    }
   ],
   "source": [
    "df_ai.head()"
   ]
  },
  {
   "cell_type": "code",
   "execution_count": 10,
   "id": "44e5639f-73c2-4d64-b9aa-2f307988a169",
   "metadata": {},
   "outputs": [],
   "source": [
    "def calculate_bertscore(true_sentences, generated_sentences):\n",
    "    P, R, F1 = score(generated_sentences, true_sentences, lang='en', verbose=True)\n",
    "    return P, R, F1\n",
    "\n",
    "def calculate_edit_distance(true_sentences, generated_sentences):\n",
    "    distances = [lev.distance(true, generated) for true, generated in zip(true_sentences, generated_sentences)]\n",
    "    return distances"
   ]
  },
  {
   "cell_type": "code",
   "execution_count": 11,
   "id": "0d6d618d-f6a5-4b2c-a872-baf047153370",
   "metadata": {
    "scrolled": true
   },
   "outputs": [
    {
     "name": "stderr",
     "output_type": "stream",
     "text": [
      "Some weights of RobertaModel were not initialized from the model checkpoint at roberta-large and are newly initialized: ['roberta.pooler.dense.bias', 'roberta.pooler.dense.weight']\n",
      "You should probably TRAIN this model on a down-stream task to be able to use it for predictions and inference.\n"
     ]
    },
    {
     "name": "stdout",
     "output_type": "stream",
     "text": [
      "calculating scores...\n",
      "computing bert embedding.\n"
     ]
    },
    {
     "data": {
      "application/vnd.jupyter.widget-view+json": {
       "model_id": "b0196fa207284de1999f26e96df0f871",
       "version_major": 2,
       "version_minor": 0
      },
      "text/plain": [
       "  0%|          | 0/33 [00:00<?, ?it/s]"
      ]
     },
     "metadata": {},
     "output_type": "display_data"
    },
    {
     "name": "stdout",
     "output_type": "stream",
     "text": [
      "computing greedy matching.\n"
     ]
    },
    {
     "data": {
      "application/vnd.jupyter.widget-view+json": {
       "model_id": "e2692c202b5941549ce52ef0362bc8d9",
       "version_major": 2,
       "version_minor": 0
      },
      "text/plain": [
       "  0%|          | 0/17 [00:00<?, ?it/s]"
      ]
     },
     "metadata": {},
     "output_type": "display_data"
    },
    {
     "name": "stdout",
     "output_type": "stream",
     "text": [
      "done in 203.22 seconds, 5.08 sentences/sec\n"
     ]
    }
   ],
   "source": [
    "true_human = df_human['True Sentences'].tolist()\n",
    "generated_human = df_human['Generated Sentences'].tolist()\n",
    "precision_human, recall_human, f1_human = calculate_bertscore(true_human, generated_human)\n",
    "edit_distances_human = calculate_edit_distance(true_human, generated_human)"
   ]
  },
  {
   "cell_type": "code",
   "execution_count": 12,
   "id": "f66b6f23-79d3-4b6c-894f-c664b183d9e2",
   "metadata": {},
   "outputs": [
    {
     "name": "stderr",
     "output_type": "stream",
     "text": [
      "Some weights of RobertaModel were not initialized from the model checkpoint at roberta-large and are newly initialized: ['roberta.pooler.dense.bias', 'roberta.pooler.dense.weight']\n",
      "You should probably TRAIN this model on a down-stream task to be able to use it for predictions and inference.\n"
     ]
    },
    {
     "name": "stdout",
     "output_type": "stream",
     "text": [
      "calculating scores...\n",
      "computing bert embedding.\n"
     ]
    },
    {
     "data": {
      "application/vnd.jupyter.widget-view+json": {
       "model_id": "160b991fdfdd4e74ba1de19c80b399f1",
       "version_major": 2,
       "version_minor": 0
      },
      "text/plain": [
       "  0%|          | 0/42 [00:00<?, ?it/s]"
      ]
     },
     "metadata": {},
     "output_type": "display_data"
    },
    {
     "name": "stdout",
     "output_type": "stream",
     "text": [
      "computing greedy matching.\n"
     ]
    },
    {
     "data": {
      "application/vnd.jupyter.widget-view+json": {
       "model_id": "46c67aec03964fe48ae0744819e2d36d",
       "version_major": 2,
       "version_minor": 0
      },
      "text/plain": [
       "  0%|          | 0/21 [00:00<?, ?it/s]"
      ]
     },
     "metadata": {},
     "output_type": "display_data"
    },
    {
     "name": "stdout",
     "output_type": "stream",
     "text": [
      "done in 132.82 seconds, 9.93 sentences/sec\n"
     ]
    }
   ],
   "source": [
    "true_ai = df_ai['True Sentences'].tolist()\n",
    "generated_ai = df_ai['Generated Sentences'].tolist()\n",
    "precision_ai, recall_ai, f1_ai = calculate_bertscore(true_ai, generated_ai)\n",
    "edit_distances_ai = calculate_edit_distance(true_ai, generated_ai)"
   ]
  },
  {
   "cell_type": "code",
   "execution_count": 13,
   "id": "c3ad684b-558a-4355-87ac-b55de7d8aec2",
   "metadata": {},
   "outputs": [],
   "source": [
    "df_scores_human = pd.DataFrame({\n",
    "    'True Sentences': true_human,\n",
    "    'Generated Sentences': generated_human,\n",
    "    'Precision': precision_human.numpy(),\n",
    "    'Recall': recall_human.numpy(),\n",
    "    'F1 Score': f1_human.numpy(),\n",
    "    'Edit Distance': edit_distances_human\n",
    "})\n",
    "\n",
    "df_scores_ai = pd.DataFrame({\n",
    "    'True Sentences': true_ai,\n",
    "    'Generated Sentences': generated_ai,\n",
    "    'Precision': precision_ai.numpy(),\n",
    "    'Recall': recall_ai.numpy(),\n",
    "    'F1 Score': f1_ai.numpy(),\n",
    "    'Edit Distance': edit_distances_ai\n",
    "})"
   ]
  },
  {
   "cell_type": "code",
   "execution_count": 14,
   "id": "54c113a7-ca67-4ab8-9239-622c6b3f7533",
   "metadata": {},
   "outputs": [
    {
     "data": {
      "text/plain": [
       "array([[<Axes: title={'center': 'Precision'}>,\n",
       "        <Axes: title={'center': 'Recall'}>],\n",
       "       [<Axes: title={'center': 'F1 Score'}>,\n",
       "        <Axes: title={'center': 'Edit Distance'}>]], dtype=object)"
      ]
     },
     "execution_count": 14,
     "metadata": {},
     "output_type": "execute_result"
    },
    {
     "data": {
      "image/png": "[encoded data removed]",
      "text/plain": [
       "<Figure size 640x480 with 4 Axes>"
      ]
     },
     "metadata": {},
     "output_type": "display_data"
    }
   ],
   "source": [
    "df_scores_human.hist()"
   ]
  },
  {
   "cell_type": "code",
   "execution_count": 15,
   "id": "99f4aaa8-9a10-4581-8c6e-3cfd73c5fff6",
   "metadata": {},
   "outputs": [
    {
     "data": {
      "text/plain": [
       "array([[<Axes: title={'center': 'Precision'}>,\n",
       "        <Axes: title={'center': 'Recall'}>],\n",
       "       [<Axes: title={'center': 'F1 Score'}>,\n",
       "        <Axes: title={'center': 'Edit Distance'}>]], dtype=object)"
      ]
     },
     "execution_count": 15,
     "metadata": {},
     "output_type": "execute_result"
    },
    {
     "data": {
      "image/png": "[encoded data removed]",
      "text/plain": [
       "<Figure size 640x480 with 4 Axes>"
      ]
     },
     "metadata": {},
     "output_type": "display_data"
    }
   ],
   "source": [
    "df_scores_ai.hist()"
   ]
  },
  {
   "cell_type": "code",
   "execution_count": 16,
   "id": "49f13cda-f508-47db-abe7-0f7dc38ebb1d",
   "metadata": {},
   "outputs": [],
   "source": [
    "df_scores_human.to_csv('human_results.csv', index=False)\n",
    "df_scores_ai.to_csv('ai_results.csv', index=False)"
   ]
  }
 ],
 "metadata": {
  "kernelspec": {
   "display_name": "Python 3 (ipykernel)",
   "language": "python",
   "name": "python3"
  },
  "language_info": {
   "codemirror_mode": {
    "name": "ipython",
    "version": 3
   },
   "file_extension": ".py",
   "mimetype": "text/x-python",
   "name": "python",
   "nbconvert_exporter": "python",
   "pygments_lexer": "ipython3",
   "version": "3.11.7"
  }
 },
 "nbformat": 4,
 "nbformat_minor": 5
}
